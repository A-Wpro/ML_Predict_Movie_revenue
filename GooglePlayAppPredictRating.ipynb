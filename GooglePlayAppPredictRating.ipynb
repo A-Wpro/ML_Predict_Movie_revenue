{
  "nbformat": 4,
  "nbformat_minor": 0,
  "metadata": {
    "colab": {
      "name": "GooglePlayAppPredictRating.ipynb",
      "provenance": [],
      "collapsed_sections": [],
      "mount_file_id": "1UQPSfVl-Ccy9P8kiV3It-ao9FChQFUQR",
      "authorship_tag": "ABX9TyM4WMO6zY4wNWOzoOdpyxMY",
      "include_colab_link": true
    },
    "kernelspec": {
      "name": "python3",
      "display_name": "Python 3"
    }
  },
  "cells": [
    {
      "cell_type": "markdown",
      "metadata": {
        "id": "view-in-github",
        "colab_type": "text"
      },
      "source": [
        "<a href=\"https://colab.research.google.com/github/A-Wpro/ML_Predict_Movie_revenue/blob/main/GooglePlayAppPredictRating.ipynb\" target=\"_parent\"><img src=\"https://colab.research.google.com/assets/colab-badge.svg\" alt=\"Open In Colab\"/></a>"
      ]
    },
    {
      "cell_type": "markdown",
      "metadata": {
        "id": "k6njU5m9dVVD"
      },
      "source": [
        "# DATASET :\n",
        "https://drive.google.com/file/d/1VDEBCOcggkbkT4C6BQKSN1HyqLSB1c3d/view?usp=sharing\n",
        "\n",
        "The goal of this code is to predict the raiting of an GooglePlay App "
      ]
    },
    {
      "cell_type": "code",
      "metadata": {
        "id": "SXCg8ilTwX2u"
      },
      "source": [
        "# linear algebra\n",
        "import numpy as np \n",
        "\n",
        "# data processing\n",
        "import pandas as pd \n",
        "\n",
        "# data visualization\n",
        "from matplotlib import pyplot as plt\n",
        "\n",
        "# Algorithms\n",
        "from sklearn import linear_model\n",
        "from sklearn.linear_model import LogisticRegression\n",
        "from sklearn.model_selection import train_test_split\n",
        "from sklearn.preprocessing import LabelEncoder# creating instance of one-hot-encoder\n",
        "from sklearn.metrics import mean_squared_error\n",
        "\n"
      ],
      "execution_count": 1,
      "outputs": []
    },
    {
      "cell_type": "code",
      "metadata": {
        "id": "VTKnTelEwZuk"
      },
      "source": [
        "df = pd.read_csv(\"GooglePlayApp.csv\", sep=\",\")\n",
        "\n",
        "#dataset size 8281+ lines\n",
        "\n",
        "#cleaning data\n",
        "df = df.dropna() #delete very few lines \n",
        "\n",
        "\"\"\" # columns\n",
        "['App', 'Category', 'Reviews', 'Size', 'Installs', 'Type', 'Price',\n",
        "       'Content Rating', 'Genres', 'Last Updated', 'Current Ver',\n",
        "       'Android Ver', 'Rating']\n",
        "\n",
        "\"\"\" "
      ],
      "execution_count": null,
      "outputs": []
    },
    {
      "cell_type": "code",
      "metadata": {
        "id": "9I6cQCrAce9x"
      },
      "source": [
        "\n",
        "#cleaning review : \n",
        "tab = list()\n",
        "for R in df[\"Reviews\"]:\n",
        "    R = int(R)\n",
        "    tab.append(R)\n",
        "df.Reviews = tab\n",
        "df.Reviews = df.Reviews.astype(int)\n",
        "   \n",
        "\n",
        "\n",
        "#cleaning Price\n",
        "i = 0\n",
        "for prices in df[\"Price\"]:\n",
        "    if '$' in prices:\n",
        "        df[\"Price\"][i] = prices[1:-1]\n",
        "    else:\n",
        "        df[\"Price\"][i] = prices\n",
        "    i += 1 \n",
        "df.Price = df.Price.astype(float)\n",
        "    \n",
        "#cleaning Installs\n",
        "tab = list()\n",
        "for install in df[\"Installs\"]:\n",
        "    install =install.replace(',','')\n",
        "    install =install.replace('+','')\n",
        "    tab.append(install)\n",
        "df.Installs = tab\n",
        "df.Installs = df.Installs.astype(int)\n",
        "\n",
        "\n",
        "#cleaning Android Ver\n",
        "\n",
        "tab = list()\n",
        "for Ver in df[\"Android Ver\"]:\n",
        "    if Ver != \"Varies with device\":\n",
        "        Ver = Ver[0]\n",
        "        tab.append(Ver)\n",
        "    else: \n",
        "        Ver = 100  # I put 100 so our ML model understand that there is problem on Android ver that cause usally bad rating \n",
        "        tab.append(Ver)\n",
        "\n",
        "df = df.dropna() #delete very few lines \n",
        "df[\"Android Ver\"] = tab\n",
        "df[\"Android Ver\"] = df[\"Android Ver\"].astype(int)\n",
        "    \n",
        "\n",
        "#cleaning Size : Will be delete cause nobody look at size for a review\n",
        "\n",
        "tab = list()\n",
        "for s in df[\"Size\"]:\n",
        "    if s == \"Varies with device\":\n",
        "        s = 0\n",
        "        tab.append(s)\n",
        "    else :\n",
        "        s =s.replace('M','')\n",
        "        tab.append(s)\n",
        "df.Size = tab\n",
        "df.Size = df.Installs.astype(int)\n",
        "\n",
        "\n",
        "#clean App name : we will count the len \n",
        "tab = list()\n",
        "for app in df[\"App\"]:\n",
        "    if app != \"Varies with device\":\n",
        "        app = len(app)\n",
        "        tab.append(app)\n",
        "        \n",
        "df[\"App\"] = tab\n",
        "\n",
        "#Cleaning Type L\n",
        "\n",
        "LabelEnc = LabelEncoder()  \n",
        "df['Type'] = LabelEnc.fit_transform(df[\"Type\"])\n",
        "\n",
        "\n",
        "#Cleaning Category L\n",
        "LabelEnc = LabelEncoder()  \n",
        "df['Category'] = LabelEnc.fit_transform(df[\"Category\"])\n",
        "\n",
        "\n",
        "#Cleaning Content Rating L\n",
        "LabelEnc = LabelEncoder()  \n",
        "df['Content Rating'] = LabelEnc.fit_transform(df[\"Content Rating\"])\n",
        "\n",
        "\n",
        "#Cleaning Genres L\n",
        "LabelEnc = LabelEncoder()  \n",
        "df['Genres'] = LabelEnc.fit_transform(df[\"Genres\"])\n",
        "\n",
        "\n",
        "#Cleaning Last Updated Drop cause no interest for ML model\n",
        "df = df.drop([\"Last Updated\"],axis = 1)\n",
        "\n",
        "#Cleaning Current Ver Drop cause no interest for ML model\n",
        "df = df.drop([\"Current Ver\"],axis = 1)\n"
      ],
      "execution_count": null,
      "outputs": []
    },
    {
      "cell_type": "code",
      "metadata": {
        "id": "XRxQGo5Scl4t"
      },
      "source": [
        "#ploting some data analyse\n",
        "plt.scatter(df[\"Rating\"], df[\"Price\"], c='red', alpha=0.5)\n",
        "plt.title('Scatter plot Rating vs Price ')\n",
        "plt.xlabel('Price')\n",
        "plt.ylabel('Rating')\n",
        "plt.show()\n"
      ],
      "execution_count": null,
      "outputs": []
    },
    {
      "cell_type": "code",
      "metadata": {
        "id": "4b-W5SSVcpNd"
      },
      "source": [
        "# ML \n",
        "from sklearn.linear_model import LinearRegression\n",
        "\n",
        "\n",
        "y = df[\"Rating\"] \n",
        "X = df.drop(['Rating'], axis=1)\n",
        "\n",
        "\n",
        "X_train, X_test, y_train, y_test = train_test_split(X, y, test_size=0.25, random_state=42)\n",
        "\n",
        "\n",
        "RegLin = LinearRegression()\n",
        "RegLin.fit(X_train, y_train)\n",
        "y_pred = RegLin.predict(X_test)\n",
        "\n",
        "print(\"MSE\" ,  mean_squared_error(y_test, y_pred))"
      ],
      "execution_count": null,
      "outputs": []
    },
    {
      "cell_type": "code",
      "metadata": {
        "id": "mbpA5bHOcrlv"
      },
      "source": [
        "from keras.models import Sequential\n",
        "from keras.layers import Dense\n",
        "from keras.wrappers.scikit_learn import KerasRegressor\n",
        "from sklearn.model_selection import cross_val_score\n",
        "from sklearn.model_selection import KFold\n",
        "from sklearn.preprocessing import StandardScaler\n",
        "from sklearn.pipeline import Pipeline\n",
        "# load dataset\n",
        "dataframe = df\n",
        "# split into input (X) and output (Y) variables\n",
        "X = X\n",
        "Y = y\n",
        "# define base model\n",
        "def baseline_model():\n",
        "\t# create model\n",
        "\tmodel = Sequential()\n",
        "\tmodel.add(Dense(13, input_dim=10, kernel_initializer='normal', activation='relu'))\n",
        "\tmodel.add(Dense(1, kernel_initializer='normal'))\n",
        "\t# Compile model\n",
        "\tmodel.compile(loss='mean_squared_error', optimizer='adam')\n",
        "\treturn model\n",
        "# evaluate model with standardized dataset\n",
        "estimators = []\n",
        "estimators.append(('standardize', StandardScaler()))\n",
        "estimators.append(('mlp', KerasRegressor(build_fn=baseline_model, epochs=50, batch_size=5, verbose=1)))\n",
        "pipeline = Pipeline(estimators)\n",
        "kfold = KFold(n_splits=10)\n",
        "results = cross_val_score(pipeline, X, Y, cv=kfold)\n",
        "print(\"Standardized: %.2f (%.2f) MS\" % (results.mean(), results.std()))"
      ],
      "execution_count": null,
      "outputs": []
    }
  ]
}