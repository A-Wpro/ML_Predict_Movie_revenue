{
  "nbformat": 4,
  "nbformat_minor": 0,
  "metadata": {
    "colab": {
      "name": "movieMLpredict",
      "provenance": [],
      "mount_file_id": "https://github.com/A-Wpro/ML_Predict_Movie_revenue/blob/main/movieMLpredict.ipynb",
      "authorship_tag": "ABX9TyNMgWD+h/ngC9PXy76VmlPG",
      "include_colab_link": true
    },
    "kernelspec": {
      "name": "python3",
      "display_name": "Python 3"
    }
  },
  "cells": [
    {
      "cell_type": "markdown",
      "metadata": {
        "id": "view-in-github",
        "colab_type": "text"
      },
      "source": [
        "<a href=\"https://colab.research.google.com/github/A-Wpro/ML_Predict_Movie_revenue/blob/main/movieMLpredict.ipynb\" target=\"_parent\"><img src=\"https://colab.research.google.com/assets/colab-badge.svg\" alt=\"Open In Colab\"/></a>"
      ]
    },
    {
      "cell_type": "code",
      "metadata": {
        "id": "pWtWlWlsa7dP"
      },
      "source": [
        "data set\n",
        "https://www.kaggle.com/tmdb/tmdb-movie-metadata\n",
        "\n",
        "WIP\n",
        "\n",
        "TODO LIST :\n",
        "-PCA ?\n",
        "-scoring and co (2nd try = 0.7296209632715457 score, that okat need to improve)\n",
        "-find best model (not knn)"
      ],
      "execution_count": null,
      "outputs": []
    },
    {
      "cell_type": "code",
      "metadata": {
        "id": "hEf9HahYaPti"
      },
      "source": [
        "from sklearn import datasets\n",
        "import sys\n",
        "import pandas as pd\n",
        "import numpy as np\n",
        "import matplotlib.pyplot as plt\n",
        "from sklearn import linear_model\n",
        "from sklearn.linear_model import LinearRegression\n",
        "\n",
        "from sklearn.model_selection import train_test_split\n",
        "from sklearn.preprocessing import LabelEncoder# creating instance of one-hot-encoder\n",
        "from sklearn.metrics import mean_squared_error\n",
        "from datetime import datetime\n"
      ],
      "execution_count": 18,
      "outputs": []
    },
    {
      "cell_type": "markdown",
      "metadata": {
        "id": "HoPWhLqdacNd"
      },
      "source": [
        "# Movie feat :  adult,belongs_to_collection,budget,genres,homepage,id,imdb_id,original_language,original_title,overview,popularity,poster_path,production_companies,production_countries,release_date,revenue,runtime,spoken_languages,status,tagline,title,video,vote_average,vote_count"
      ]
    },
    {
      "cell_type": "code",
      "metadata": {
        "id": "RBP7xrshae0v",
        "colab": {
          "base_uri": "https://localhost:8080/"
        },
        "outputId": "e72043f2-c269-4b89-a933-14655259f7d3"
      },
      "source": [
        "movies_metadata=pd.read_csv('/content/drive/My Drive/movies_metadata.csv', sep=',')\n",
        "\n",
        "\n",
        "movies_metadataWithoutUselessFeat = movies_metadata\n",
        "movies_metadataWithoutUselessFeat = movies_metadataWithoutUselessFeat.drop(movies_metadataWithoutUselessFeat.columns[[1,3, 4,5,6,8,9,11,12,13,17,18, 19,20,21]], axis=1)\n",
        "\n",
        "\n",
        "movies_metadataWithoutNaN = movies_metadataWithoutUselessFeat.dropna()\n",
        "print(\"\\nShape de la frame :\\n\", movies_metadataWithoutNaN.shape) # on  perd 1500 lignes au lieu de 40k en enlevant 3 feats\n",
        "\n",
        "#CLEANING DATA : TIMESTAMP TO UNIX SECONDS\n",
        "\n",
        "\n",
        "tab = list()\n",
        "for time in movies_metadataWithoutNaN.release_date:\n",
        "    time = time # + \"00:00:00.000000\"\n",
        "    time = datetime.strptime(time, \"%Y-%m-%d\")\n",
        "    time = datetime.timestamp(time)\n",
        "    tab.append(time)\n",
        "movies_metadataWithoutNaN.release_date = tab\n",
        "movies_metadataWithoutNaN.release_date =movies_metadataWithoutNaN.release_date.astype(int)\n",
        "\n",
        "\n"
      ],
      "execution_count": 19,
      "outputs": [
        {
          "output_type": "stream",
          "text": [
            "/usr/local/lib/python3.6/dist-packages/IPython/core/interactiveshell.py:2718: DtypeWarning: Columns (10) have mixed types.Specify dtype option on import or set low_memory=False.\n",
            "  interactivity=interactivity, compiler=compiler, result=result)\n"
          ],
          "name": "stderr"
        },
        {
          "output_type": "stream",
          "text": [
            "\n",
            "Shape de la frame :\n",
            " (45119, 9)\n"
          ],
          "name": "stdout"
        },
        {
          "output_type": "stream",
          "text": [
            "/usr/local/lib/python3.6/dist-packages/pandas/core/generic.py:5170: SettingWithCopyWarning: \n",
            "A value is trying to be set on a copy of a slice from a DataFrame.\n",
            "Try using .loc[row_indexer,col_indexer] = value instead\n",
            "\n",
            "See the caveats in the documentation: https://pandas.pydata.org/pandas-docs/stable/user_guide/indexing.html#returning-a-view-versus-a-copy\n",
            "  self[name] = value\n"
          ],
          "name": "stderr"
        }
      ]
    },
    {
      "cell_type": "code",
      "metadata": {
        "id": "FQ03B_2MajYO",
        "outputId": "de2dd3b7-8ef6-420b-e78a-5d6188964689",
        "colab": {
          "base_uri": "https://localhost:8080/"
        }
      },
      "source": [
        "#les dummies; on regarde deja commetn ca se passe\n",
        "#dummies\n",
        "#movies_metadataWithoutNaN=pd.get_dummies(movies_metadataWithoutNaN, columns=['adult','original_language'])#,''])\n",
        "\n",
        "from sklearn.preprocessing import LabelEncoder\n",
        "LabelEnc = LabelEncoder()  \n",
        "movies_metadataWithoutNaN['adult'] = LabelEnc.fit_transform(movies_metadataWithoutNaN[\"adult\"])\n",
        "movies_metadataWithoutNaN['original_language'] = LabelEnc.fit_transform(movies_metadataWithoutNaN[\"original_language\"])\n"
      ],
      "execution_count": 20,
      "outputs": [
        {
          "output_type": "stream",
          "text": [
            "/usr/local/lib/python3.6/dist-packages/ipykernel_launcher.py:7: SettingWithCopyWarning: \n",
            "A value is trying to be set on a copy of a slice from a DataFrame.\n",
            "Try using .loc[row_indexer,col_indexer] = value instead\n",
            "\n",
            "See the caveats in the documentation: https://pandas.pydata.org/pandas-docs/stable/user_guide/indexing.html#returning-a-view-versus-a-copy\n",
            "  import sys\n",
            "/usr/local/lib/python3.6/dist-packages/ipykernel_launcher.py:8: SettingWithCopyWarning: \n",
            "A value is trying to be set on a copy of a slice from a DataFrame.\n",
            "Try using .loc[row_indexer,col_indexer] = value instead\n",
            "\n",
            "See the caveats in the documentation: https://pandas.pydata.org/pandas-docs/stable/user_guide/indexing.html#returning-a-view-versus-a-copy\n",
            "  \n"
          ],
          "name": "stderr"
        }
      ]
    },
    {
      "cell_type": "code",
      "metadata": {
        "id": "27pOyQ37alYk",
        "colab": {
          "base_uri": "https://localhost:8080/"
        },
        "outputId": "5a8adcad-998d-4509-c375-7c64874b9b31"
      },
      "source": [
        "X = movies_metadataWithoutNaN.drop(['revenue'], axis = 1) #5= revenue; if revenue = 0 then no money was win\n",
        "y = movies_metadataWithoutNaN.revenue              \n",
        "print('y :',y.shape)\n",
        "print('x :',X.shape)\n",
        "print(X.columns)\n",
        "print(y)"
      ],
      "execution_count": 39,
      "outputs": [
        {
          "output_type": "stream",
          "text": [
            "y : (45119,)\n",
            "x : (45119, 8)\n",
            "Index(['adult', 'budget', 'original_language', 'popularity', 'release_date',\n",
            "       'runtime', 'vote_average', 'vote_count'],\n",
            "      dtype='object')\n",
            "0        373554033.0\n",
            "1        262797249.0\n",
            "2                0.0\n",
            "3         81452156.0\n",
            "4         76578911.0\n",
            "            ...     \n",
            "45460            0.0\n",
            "45462            0.0\n",
            "45463            0.0\n",
            "45464            0.0\n",
            "45465            0.0\n",
            "Name: revenue, Length: 45119, dtype: float64\n"
          ],
          "name": "stdout"
        }
      ]
    },
    {
      "cell_type": "code",
      "metadata": {
        "id": "6eF_O6rSanYV"
      },
      "source": [
        "X_train, X_test, y_train, y_test = train_test_split(X, y,test_size = 0.3, random_state=42)"
      ],
      "execution_count": 40,
      "outputs": []
    },
    {
      "cell_type": "code",
      "metadata": {
        "id": "_beg2bzH88sz",
        "outputId": "7fbfa5e9-096a-48ba-8084-666f595534ca",
        "colab": {
          "base_uri": "https://localhost:8080/"
        }
      },
      "source": [
        "print((X_train.iloc[0]))\r\n",
        "#adult', 'budget', 'original_language', 'popularity', 'release_date','runtime', 'vote_average', 'vote_count'\r\n",
        "# 0 0 17 3.5 1009843200 89.0 8.3 11"
      ],
      "execution_count": 85,
      "outputs": [
        {
          "output_type": "stream",
          "text": [
            "adult                        0\n",
            "budget                       0\n",
            "original_language           17\n",
            "popularity            0.005351\n",
            "release_date         550454400\n",
            "runtime                     95\n",
            "vote_average               4.5\n",
            "vote_count                   1\n",
            "Name: 4008, dtype: object\n"
          ],
          "name": "stdout"
        }
      ]
    },
    {
      "cell_type": "code",
      "metadata": {
        "id": "-sXjrt0dapTN",
        "colab": {
          "base_uri": "https://localhost:8080/",
          "height": 357
        },
        "outputId": "fb06f00e-44e9-4642-9ef7-3a418fb75658"
      },
      "source": [
        "\n",
        "\n",
        "RegLin = LinearRegression()\n",
        "RegLin.fit(X_train, y_train)\n",
        "y_pred = RegLin.predict(X_test)\n",
        "\n",
        "print(\"Score : \", RegLin.score(X_test, y_test))\n",
        "\n",
        "print(\"MSE\" ,  mean_squared_error(y_test, y_pred))\n",
        "#MSE = 0.00012 => probably overfited :( I will try to clean data\n",
        "\n",
        "# TESTING random predict\n",
        "test = [0,0,17,3.5,1009843200,89.0,8.3,11]\n",
        "y_pred_test = RegLin.predict(X_train.iloc[0].format(Series))"
      ],
      "execution_count": 90,
      "outputs": [
        {
          "output_type": "stream",
          "text": [
            "Score :  0.7296209632715457\n",
            "MSE 1139717612362195.5\n"
          ],
          "name": "stdout"
        },
        {
          "output_type": "error",
          "ename": "AttributeError",
          "evalue": "ignored",
          "traceback": [
            "\u001b[0;31m---------------------------------------------------------------------------\u001b[0m",
            "\u001b[0;31mAttributeError\u001b[0m                            Traceback (most recent call last)",
            "\u001b[0;32m<ipython-input-90-1a20c8c2c6da>\u001b[0m in \u001b[0;36m<module>\u001b[0;34m()\u001b[0m\n\u001b[1;32m     11\u001b[0m \u001b[0;34m\u001b[0m\u001b[0m\n\u001b[1;32m     12\u001b[0m \u001b[0mtest\u001b[0m \u001b[0;34m=\u001b[0m \u001b[0;34m[\u001b[0m\u001b[0;36m0\u001b[0m\u001b[0;34m,\u001b[0m\u001b[0;36m0\u001b[0m\u001b[0;34m,\u001b[0m\u001b[0;36m17\u001b[0m\u001b[0;34m,\u001b[0m\u001b[0;36m3.5\u001b[0m\u001b[0;34m,\u001b[0m\u001b[0;36m1009843200\u001b[0m\u001b[0;34m,\u001b[0m\u001b[0;36m89.0\u001b[0m\u001b[0;34m,\u001b[0m\u001b[0;36m8.3\u001b[0m\u001b[0;34m,\u001b[0m\u001b[0;36m11\u001b[0m\u001b[0;34m]\u001b[0m\u001b[0;34m\u001b[0m\u001b[0;34m\u001b[0m\u001b[0m\n\u001b[0;32m---> 13\u001b[0;31m \u001b[0my_pred_test\u001b[0m \u001b[0;34m=\u001b[0m \u001b[0mRegLin\u001b[0m\u001b[0;34m.\u001b[0m\u001b[0mpredict\u001b[0m\u001b[0;34m(\u001b[0m\u001b[0mX_train\u001b[0m\u001b[0;34m.\u001b[0m\u001b[0miloc\u001b[0m\u001b[0;34m[\u001b[0m\u001b[0;36m0\u001b[0m\u001b[0;34m]\u001b[0m\u001b[0;34m.\u001b[0m\u001b[0mformat\u001b[0m\u001b[0;34m(\u001b[0m\u001b[0mSeries\u001b[0m\u001b[0;34m)\u001b[0m\u001b[0;34m)\u001b[0m\u001b[0;34m\u001b[0m\u001b[0;34m\u001b[0m\u001b[0m\n\u001b[0m",
            "\u001b[0;32m/usr/local/lib/python3.6/dist-packages/pandas/core/generic.py\u001b[0m in \u001b[0;36m__getattr__\u001b[0;34m(self, name)\u001b[0m\n\u001b[1;32m   5139\u001b[0m             \u001b[0;32mif\u001b[0m \u001b[0mself\u001b[0m\u001b[0;34m.\u001b[0m\u001b[0m_info_axis\u001b[0m\u001b[0;34m.\u001b[0m\u001b[0m_can_hold_identifiers_and_holds_name\u001b[0m\u001b[0;34m(\u001b[0m\u001b[0mname\u001b[0m\u001b[0;34m)\u001b[0m\u001b[0;34m:\u001b[0m\u001b[0;34m\u001b[0m\u001b[0;34m\u001b[0m\u001b[0m\n\u001b[1;32m   5140\u001b[0m                 \u001b[0;32mreturn\u001b[0m \u001b[0mself\u001b[0m\u001b[0;34m[\u001b[0m\u001b[0mname\u001b[0m\u001b[0;34m]\u001b[0m\u001b[0;34m\u001b[0m\u001b[0;34m\u001b[0m\u001b[0m\n\u001b[0;32m-> 5141\u001b[0;31m             \u001b[0;32mreturn\u001b[0m \u001b[0mobject\u001b[0m\u001b[0;34m.\u001b[0m\u001b[0m__getattribute__\u001b[0m\u001b[0;34m(\u001b[0m\u001b[0mself\u001b[0m\u001b[0;34m,\u001b[0m \u001b[0mname\u001b[0m\u001b[0;34m)\u001b[0m\u001b[0;34m\u001b[0m\u001b[0;34m\u001b[0m\u001b[0m\n\u001b[0m\u001b[1;32m   5142\u001b[0m \u001b[0;34m\u001b[0m\u001b[0m\n\u001b[1;32m   5143\u001b[0m     \u001b[0;32mdef\u001b[0m \u001b[0m__setattr__\u001b[0m\u001b[0;34m(\u001b[0m\u001b[0mself\u001b[0m\u001b[0;34m,\u001b[0m \u001b[0mname\u001b[0m\u001b[0;34m:\u001b[0m \u001b[0mstr\u001b[0m\u001b[0;34m,\u001b[0m \u001b[0mvalue\u001b[0m\u001b[0;34m)\u001b[0m \u001b[0;34m->\u001b[0m \u001b[0;32mNone\u001b[0m\u001b[0;34m:\u001b[0m\u001b[0;34m\u001b[0m\u001b[0;34m\u001b[0m\u001b[0m\n",
            "\u001b[0;31mAttributeError\u001b[0m: 'Series' object has no attribute 'format'"
          ]
        }
      ]
    }
  ]
}