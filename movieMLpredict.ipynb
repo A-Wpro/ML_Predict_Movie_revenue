{
  "nbformat": 4,
  "nbformat_minor": 0,
  "metadata": {
    "colab": {
      "name": "movieMLpredict",
      "provenance": [],
      "authorship_tag": "ABX9TyOIWRxKyuuT0zu6+kymvYBV",
      "include_colab_link": true
    },
    "kernelspec": {
      "name": "python3",
      "display_name": "Python 3"
    }
  },
  "cells": [
    {
      "cell_type": "markdown",
      "metadata": {
        "id": "view-in-github",
        "colab_type": "text"
      },
      "source": [
        "<a href=\"https://colab.research.google.com/github/A-Wpro/ML_Predict_Movie_revenue/blob/main/movieMLpredict.ipynb\" target=\"_parent\"><img src=\"https://colab.research.google.com/assets/colab-badge.svg\" alt=\"Open In Colab\"/></a>"
      ]
    },
    {
      "cell_type": "code",
      "metadata": {
        "id": "pWtWlWlsa7dP"
      },
      "source": [
        "data set\n",
        "https://www.kaggle.com/tmdb/tmdb-movie-metadata"
      ],
      "execution_count": null,
      "outputs": []
    },
    {
      "cell_type": "code",
      "metadata": {
        "id": "hEf9HahYaPti"
      },
      "source": [
        "from sklearn import datasets\n",
        "import pandas as pd\n",
        "import numpy as np\n",
        "import matplotlib.pyplot as plt\n",
        "from sklearn.model_selection import train_test_split\n",
        "from sklearn.linear_model import LinearRegression\n",
        "from sklearn.neighbors import KNeighborsClassifier\n",
        "import datetime\n"
      ],
      "execution_count": null,
      "outputs": []
    },
    {
      "cell_type": "markdown",
      "metadata": {
        "id": "HoPWhLqdacNd"
      },
      "source": [
        "# Movie feat :  adult,belongs_to_collection,budget,genres,homepage,id,imdb_id,original_language,original_title,overview,popularity,poster_path,production_companies,production_countries,release_date,revenue,runtime,spoken_languages,status,tagline,title,video,vote_average,vote_count"
      ]
    },
    {
      "cell_type": "code",
      "metadata": {
        "id": "RBP7xrshae0v"
      },
      "source": [
        "movies_metadata=pd.read_csv('/content/drive/My Drive/movies_metadata.csv', sep=',')\n",
        "\n",
        "\n",
        "movies_metadataWithoutUselessFeat = movies_metadata\n",
        "movies_metadataWithoutUselessFeat = movies_metadataWithoutUselessFeat.drop(movies_metadataWithoutUselessFeat.columns[[1,3, 4,5,6,8,9,11,12,13,17,18, 19,20,21]], axis=1)\n",
        "\n",
        "\n",
        "movies_metadataWithoutNaN = movies_metadataWithoutUselessFeat.dropna()\n",
        "print(\"\\nShape de la frame :\\n\", movies_metadataWithoutNaN.shape) # on  perd 1500 lignes au lieu de 40k en enlevant 3 feats\n",
        "\n",
        "#TODO : les demmuies, date to unix seconds\n",
        "\n",
        "movies_metadataWithoutNaN.release_date = movies_metadataWithoutNaN.release_date.values \n",
        "\n",
        "print(movies_metadataWithoutNaN.release_date.values.astype('float'))\n"
      ],
      "execution_count": null,
      "outputs": []
    },
    {
      "cell_type": "code",
      "metadata": {
        "id": "FQ03B_2MajYO"
      },
      "source": [
        "#les dummies; on regarde deja commetn ca se passe\n",
        "movies_metadataWithoutNaN=pd.get_dummies(movies_metadataWithoutNaN, columns=['adult','original_language'])#,''])\n",
        "\n"
      ],
      "execution_count": null,
      "outputs": []
    },
    {
      "cell_type": "code",
      "metadata": {
        "id": "27pOyQ37alYk"
      },
      "source": [
        "X = movies_metadataWithoutNaN.drop(5) #13= revenue; if revenue = 0 then no money was win\n",
        "y = movies_metadataWithoutNaN.iloc[:,5]\n",
        "y = y.iloc[1:]\n",
        "print('y :',y.shape)\n",
        "print('x :',X.shape)\n",
        "print(X.dtypes)"
      ],
      "execution_count": null,
      "outputs": []
    },
    {
      "cell_type": "code",
      "metadata": {
        "id": "6eF_O6rSanYV"
      },
      "source": [
        "X_train, X_test, y_train, y_test = train_test_split(X, y,test_size = 0.9, random_state=42)"
      ],
      "execution_count": null,
      "outputs": []
    },
    {
      "cell_type": "code",
      "metadata": {
        "id": "-sXjrt0dapTN"
      },
      "source": [
        "knn = KNeighborsClassifier(7)\n",
        "knn.fit(X_train,y_train)\n",
        "\n",
        "# Print the score\n",
        "print(knn.score(X_test, y_test))\n"
      ],
      "execution_count": null,
      "outputs": []
    }
  ]
}