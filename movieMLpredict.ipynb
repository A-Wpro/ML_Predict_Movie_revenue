{
  "nbformat": 4,
  "nbformat_minor": 0,
  "metadata": {
    "colab": {
      "name": "movieMLpredict",
      "provenance": [],
      "toc_visible": true,
      "mount_file_id": "https://github.com/A-Wpro/ML_Predict_Movie_revenue/blob/main/movieMLpredict.ipynb",
      "authorship_tag": "ABX9TyMIB0wN4dpiqJOpuJu329LR",
      "include_colab_link": true
    },
    "kernelspec": {
      "name": "python3",
      "display_name": "Python 3"
    }
  },
  "cells": [
    {
      "cell_type": "markdown",
      "metadata": {
        "id": "view-in-github",
        "colab_type": "text"
      },
      "source": [
        "<a href=\"https://colab.research.google.com/github/A-Wpro/ML_Predict_Movie_revenue/blob/main/movieMLpredict.ipynb\" target=\"_parent\"><img src=\"https://colab.research.google.com/assets/colab-badge.svg\" alt=\"Open In Colab\"/></a>"
      ]
    },
    {
      "cell_type": "code",
      "metadata": {
        "id": "pWtWlWlsa7dP"
      },
      "source": [
        "data set\n",
        "https://www.kaggle.com/tmdb/tmdb-movie-metadata\n",
        "\n",
        "WIP\n",
        "\n",
        "TODO LIST :\n",
        "-PCA ?\n",
        "-LABEL ENCODER ? instead of dummuies ? \n",
        "-scoring and co (1st try = 0.99 score is to hight)\n",
        "-find best model (not knn)"
      ],
      "execution_count": null,
      "outputs": []
    },
    {
      "cell_type": "code",
      "metadata": {
        "id": "hEf9HahYaPti"
      },
      "source": [
        "from sklearn import datasets\n",
        "import pandas as pd\n",
        "import numpy as np\n",
        "import matplotlib.pyplot as plt\n",
        "from sklearn import linear_model\n",
        "from sklearn.linear_model import LogisticRegression\n",
        "from sklearn.model_selection import train_test_split\n",
        "from sklearn.preprocessing import LabelEncoder# creating instance of one-hot-encoder\n",
        "from sklearn.metrics import mean_squared_error\n",
        "from datetime import datetime\n"
      ],
      "execution_count": 23,
      "outputs": []
    },
    {
      "cell_type": "markdown",
      "metadata": {
        "id": "HoPWhLqdacNd"
      },
      "source": [
        "# Movie feat :  adult,belongs_to_collection,budget,genres,homepage,id,imdb_id,original_language,original_title,overview,popularity,poster_path,production_companies,production_countries,release_date,revenue,runtime,spoken_languages,status,tagline,title,video,vote_average,vote_count"
      ]
    },
    {
      "cell_type": "code",
      "metadata": {
        "id": "0E2ko6UuG22n",
        "outputId": "b7653630-e967-4014-e88d-e940e4dcd0d2",
        "colab": {
          "base_uri": "https://localhost:8080/"
        }
      },
      "source": [
        "from datetime import datetime\r\n",
        "\r\n",
        "# current date and time\r\n",
        "now = datetime.now()\r\n",
        "print(now)\r\n",
        "timestamp = datetime.timestamp(now)\r\n",
        "print(\"timestamp =\", timestamp)"
      ],
      "execution_count": 6,
      "outputs": [
        {
          "output_type": "stream",
          "text": [
            "2020-12-18 23:08:59.509675\n",
            "timestamp = 1608332939.509675\n"
          ],
          "name": "stdout"
        }
      ]
    },
    {
      "cell_type": "code",
      "metadata": {
        "id": "RBP7xrshae0v",
        "colab": {
          "base_uri": "https://localhost:8080/"
        },
        "outputId": "fe8bb4b0-1e62-4c25-89eb-533356a17157"
      },
      "source": [
        "movies_metadata=pd.read_csv('/content/drive/My Drive/movies_metadata.csv', sep=',')\n",
        "\n",
        "\n",
        "movies_metadataWithoutUselessFeat = movies_metadata\n",
        "movies_metadataWithoutUselessFeat = movies_metadataWithoutUselessFeat.drop(movies_metadataWithoutUselessFeat.columns[[1,3, 4,5,6,8,9,11,12,13,17,18, 19,20,21]], axis=1)\n",
        "\n",
        "\n",
        "movies_metadataWithoutNaN = movies_metadataWithoutUselessFeat.dropna()\n",
        "print(\"\\nShape de la frame :\\n\", movies_metadataWithoutNaN.shape) # on  perd 1500 lignes au lieu de 40k en enlevant 3 feats\n",
        "\n",
        "#CLEANING DATA : TIMESTAMP TO UNIX SECONDS\n",
        "\n",
        "\n",
        "tab = list()\n",
        "for time in movies_metadataWithoutNaN.release_date:\n",
        "    time = time + \"00:00:00.000000\"\n",
        "    time = datetime.timestamp(now)\n",
        "    tab.append(time)\n",
        "movies_metadataWithoutNaN.release_date = tab\n",
        "movies_metadataWithoutNaN.release_date =movies_metadataWithoutNaN.release_date.astype(int)\n",
        "\n",
        "\n"
      ],
      "execution_count": 15,
      "outputs": [
        {
          "output_type": "stream",
          "text": [
            "\n",
            "Shape de la frame :\n",
            " (45119, 9)\n",
            "1995-12-15\n",
            "1608332939\n"
          ],
          "name": "stdout"
        },
        {
          "output_type": "stream",
          "text": [
            "/usr/local/lib/python3.6/dist-packages/IPython/core/interactiveshell.py:2718: DtypeWarning: Columns (10) have mixed types.Specify dtype option on import or set low_memory=False.\n",
            "  interactivity=interactivity, compiler=compiler, result=result)\n",
            "/usr/local/lib/python3.6/dist-packages/pandas/core/generic.py:5170: SettingWithCopyWarning: \n",
            "A value is trying to be set on a copy of a slice from a DataFrame.\n",
            "Try using .loc[row_indexer,col_indexer] = value instead\n",
            "\n",
            "See the caveats in the documentation: https://pandas.pydata.org/pandas-docs/stable/user_guide/indexing.html#returning-a-view-versus-a-copy\n",
            "  self[name] = value\n"
          ],
          "name": "stderr"
        }
      ]
    },
    {
      "cell_type": "code",
      "metadata": {
        "id": "FQ03B_2MajYO"
      },
      "source": [
        "#les dummies; on regarde deja commetn ca se passe\n",
        "movies_metadataWithoutNaN=pd.get_dummies(movies_metadataWithoutNaN, columns=['adult','original_language'])#,''])\n",
        "\n"
      ],
      "execution_count": 16,
      "outputs": []
    },
    {
      "cell_type": "code",
      "metadata": {
        "id": "27pOyQ37alYk",
        "outputId": "f001120f-604c-459c-d8df-f720388189a0",
        "colab": {
          "base_uri": "https://localhost:8080/"
        }
      },
      "source": [
        "X = movies_metadataWithoutNaN.drop(5) #13= revenue; if revenue = 0 then no money was win\n",
        "y = movies_metadataWithoutNaN.iloc[:,5]\n",
        "y = y.iloc[1:]\n",
        "print('y :',y.shape)\n",
        "print('x :',X.shape)\n",
        "print(X.dtypes)"
      ],
      "execution_count": 17,
      "outputs": [
        {
          "output_type": "stream",
          "text": [
            "y : (45118,)\n",
            "x : (45118, 98)\n",
            "budget                   object\n",
            "popularity               object\n",
            "release_date              int64\n",
            "revenue                 float64\n",
            "runtime                 float64\n",
            "                         ...   \n",
            "original_language_vi      uint8\n",
            "original_language_wo      uint8\n",
            "original_language_xx      uint8\n",
            "original_language_zh      uint8\n",
            "original_language_zu      uint8\n",
            "Length: 98, dtype: object\n"
          ],
          "name": "stdout"
        }
      ]
    },
    {
      "cell_type": "code",
      "metadata": {
        "id": "6eF_O6rSanYV"
      },
      "source": [
        "X_train, X_test, y_train, y_test = train_test_split(X, y,test_size = 0.3, random_state=42)"
      ],
      "execution_count": 27,
      "outputs": []
    },
    {
      "cell_type": "code",
      "metadata": {
        "id": "-sXjrt0dapTN",
        "outputId": "62230c62-0293-4d22-c7fd-1d33a6e4539f",
        "colab": {
          "base_uri": "https://localhost:8080/"
        }
      },
      "source": [
        "\n",
        "\n",
        "RegLin = LinearRegression()\n",
        "RegLin.fit(X_train, y_train)\n",
        "y_pred = RegLin.predict(X_test)\n",
        "\n",
        "print(\"Score : \", RegLin.score(X_test, y_test))\n",
        "\n",
        "print(\"MSE\" ,  mean_squared_error(y_test, y_pred))\n",
        "#MSE = 0.00012 => probably overfited :( I will try to clean data\n",
        "\n",
        "\n",
        "y_pred_test= RegLin.predict()"
      ],
      "execution_count": 30,
      "outputs": [
        {
          "output_type": "stream",
          "text": [
            "Score :  0.999897639668479\n",
            "MSE 0.00035466615620334644\n"
          ],
          "name": "stdout"
        }
      ]
    }
  ]
}